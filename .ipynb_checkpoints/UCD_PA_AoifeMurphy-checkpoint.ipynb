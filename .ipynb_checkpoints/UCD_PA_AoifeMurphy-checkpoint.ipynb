{
 "cells": [
  {
   "cell_type": "markdown",
   "id": "e7b1503f",
   "metadata": {},
   "source": [
    "# Analysis of Covid-19 cases, deaths and vaccinations by country and WHO region"
   ]
  },
  {
   "cell_type": "code",
   "execution_count": null,
   "id": "0cecbdad",
   "metadata": {},
   "outputs": [],
   "source": [
    "# Import the Required Libraries for visualiation, Dataframes and Calculations\n",
    "import pandas as pd\n",
    "import numpy as np\n",
    "import matplotlib.pyplot as plt\n",
    "import seaborn as sns\n",
    "import re\n",
    "import datetime\n",
    "# Libaries for Machine Learning\n",
    "from sklearn.model_selection import cross_val_score, KFold, train_test_split\n",
    "from sklearn.linear_model import LinearRegression, Lasso "
   ]
  }
 ],
 "metadata": {
  "kernelspec": {
   "display_name": "Python 3 (ipykernel)",
   "language": "python",
   "name": "python3"
  },
  "language_info": {
   "codemirror_mode": {
    "name": "ipython",
    "version": 3
   },
   "file_extension": ".py",
   "mimetype": "text/x-python",
   "name": "python",
   "nbconvert_exporter": "python",
   "pygments_lexer": "ipython3",
   "version": "3.10.9"
  }
 },
 "nbformat": 4,
 "nbformat_minor": 5
}
